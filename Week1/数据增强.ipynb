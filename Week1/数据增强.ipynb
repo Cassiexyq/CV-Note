{
 "cells": [
  {
   "cell_type": "code",
   "execution_count": 2,
   "metadata": {},
   "outputs": [],
   "source": [
    "import cv2\n",
    "import random\n",
    "import numpy as np"
   ]
  },
  {
   "cell_type": "code",
   "execution_count": 3,
   "metadata": {},
   "outputs": [],
   "source": [
    "import matplotlib.pyplot as plt "
   ]
  },
  {
   "cell_type": "markdown",
   "metadata": {},
   "source": [
    "### 显示图片"
   ]
  },
  {
   "cell_type": "code",
   "execution_count": 4,
   "metadata": {},
   "outputs": [],
   "source": [
    "img_gray = cv2.imread('img.jpg',0)\n",
    "img = cv2.imread('img.jpg')"
   ]
  },
  {
   "cell_type": "code",
   "execution_count": 15,
   "metadata": {},
   "outputs": [
    {
     "name": "stdout",
     "output_type": "stream",
     "text": [
      "[[ 62  67  73 ... 164 162 159]\n",
      " [ 65  70  76 ... 160 159 157]\n",
      " [ 70  74  80 ... 156 154 152]\n",
      " ...\n",
      " [ 14  17  49 ... 119  83  78]\n",
      " [ 18  34  49 ... 109  93  47]\n",
      " [ 31  44  52 ... 134 128  91]]\n"
     ]
    }
   ],
   "source": [
    "cv2.imshow('pic',img_gray)\n",
    "key = cv2.waitKey()\n",
    "if key == 27:\n",
    "    cv2.destroyAllWindows()\n",
    "print(img_gray)"
   ]
  },
  {
   "cell_type": "code",
   "execution_count": 8,
   "metadata": {},
   "outputs": [
    {
     "name": "stdout",
     "output_type": "stream",
     "text": [
      "uint8\n"
     ]
    }
   ],
   "source": [
    "print(img_gray.dtype)"
   ]
  },
  {
   "cell_type": "code",
   "execution_count": 9,
   "metadata": {},
   "outputs": [
    {
     "data": {
      "text/plain": [
       "(90, 135)"
      ]
     },
     "execution_count": 9,
     "metadata": {},
     "output_type": "execute_result"
    }
   ],
   "source": [
    "img_gray.shape"
   ]
  },
  {
   "cell_type": "markdown",
   "metadata": {},
   "source": [
    "### crop 图片"
   ]
  },
  {
   "cell_type": "code",
   "execution_count": 18,
   "metadata": {},
   "outputs": [
    {
     "name": "stdout",
     "output_type": "stream",
     "text": [
      "[[[105  65  40]\n",
      "  [110  70  45]\n",
      "  [116  76  51]\n",
      "  ...\n",
      "  [156 124 101]\n",
      "  [157 124 104]\n",
      "  [157 124 104]]\n",
      "\n",
      " [[108  68  43]\n",
      "  [113  73  48]\n",
      "  [119  79  54]\n",
      "  ...\n",
      "  [157 125 102]\n",
      "  [157 124 104]\n",
      "  [157 124 104]]\n",
      "\n",
      " [[113  73  48]\n",
      "  [117  77  52]\n",
      "  [123  83  58]\n",
      "  ...\n",
      "  [159 124 104]\n",
      "  [158 125 106]\n",
      "  [158 125 106]]\n",
      "\n",
      " ...\n",
      "\n",
      " [[ 43  10  47]\n",
      "  [ 73  39  79]\n",
      "  [ 97  63 104]\n",
      "  ...\n",
      "  [ 94 164 224]\n",
      "  [ 91 161 220]\n",
      "  [ 84 154 208]]\n",
      "\n",
      " [[ 57  24  59]\n",
      "  [ 76  41  81]\n",
      "  [ 77  39  87]\n",
      "  ...\n",
      "  [103 161 220]\n",
      "  [107 166 222]\n",
      "  [108 168 220]]\n",
      "\n",
      " [[ 55  13  60]\n",
      "  [ 91  50 101]\n",
      "  [ 75  31  92]\n",
      "  ...\n",
      "  [ 84 138 198]\n",
      "  [128 183 240]\n",
      "  [117 175 227]]]\n"
     ]
    }
   ],
   "source": [
    "img_crop = img[0:50,0:100]\n",
    "cv2.imshow('crop_pic',img_crop)\n",
    "key = cv2.waitKey()\n",
    "if key == 27:\n",
    "    cv2.destroyAllWindows()\n",
    "print(img_crop)"
   ]
  },
  {
   "cell_type": "markdown",
   "metadata": {},
   "source": [
    "### 图片分割三通道"
   ]
  },
  {
   "cell_type": "code",
   "execution_count": 30,
   "metadata": {},
   "outputs": [
    {
     "name": "stdout",
     "output_type": "stream",
     "text": [
      "(90, 135)\n",
      "(90, 135)\n",
      "(90, 135)\n",
      "uint8\n",
      "uint8\n"
     ]
    }
   ],
   "source": [
    "B,G,R = cv2.split(img)\n",
    "cv2.imshow('B',B)\n",
    "cv2.imshow('G',G)\n",
    "cv2.imshow('R',R)\n",
    "key = cv2.waitKey()\n",
    "if key == 27:\n",
    "    cv2.destroyAllWindows()\n",
    "print(B.shape)\n",
    "print(G.shape)\n",
    "print(R.shape)\n",
    "print(R.dtype)\n",
    "print(B.dtype)"
   ]
  },
  {
   "cell_type": "markdown",
   "metadata": {},
   "source": [
    "### 改变颜色通道"
   ]
  },
  {
   "cell_type": "code",
   "execution_count": 25,
   "metadata": {},
   "outputs": [],
   "source": [
    "def random_light_color(img):\n",
    "    B,G,R = cv2.split(img)\n",
    "    b_rand = random.randint(-50,50)\n",
    "    if b_rand == 0:\n",
    "        pass\n",
    "    elif b_rand > 0 :\n",
    "        lim = 255-b_rand\n",
    "        B[B > lim] = 255\n",
    "        B[B <= lim] = (b_rand + B[B <= lim]).astype(img.dtype)\n",
    "    elif b_rand < 0:\n",
    "        lim = 0-b_rand\n",
    "        B[B<lim] = 0\n",
    "        B[B >= lim] = (b_rand + B[B >= lim]).astype(img.dtype)\n",
    "    g_rand = random.randint(-50,50)\n",
    "    if g_rand == 0:\n",
    "        pass\n",
    "    elif g_rand > 0 :\n",
    "        lim = 255-g_rand\n",
    "        G[G > lim] = 255\n",
    "        G[G <= lim] = (g_rand + G[G <= lim]).astype(img.dtype)\n",
    "    elif g_rand < 0:\n",
    "        lim = 0-g_rand\n",
    "        G[G<lim] = 0\n",
    "        G[G >= lim] = (g_rand + G[G >= lim]).astype(img.dtype)\n",
    "    r_rand = random.randint(-50,50)\n",
    "    if r_rand == 0:\n",
    "        pass\n",
    "    elif r_rand > 0 :\n",
    "        lim = 255-r_rand\n",
    "        R[R > lim] = 255\n",
    "        R[R <= lim] = (r_rand + R[R <= lim]).astype(img.dtype)\n",
    "    elif r_rand < 0:\n",
    "        lim = 0-r_rand\n",
    "        R[R<lim] = 0\n",
    "        R[R >= lim] = (r_rand + R[R >= lim]).astype(img.dtype)\n",
    "    img_merge = cv2.merge((B, G, R))\n",
    "    return img_merge"
   ]
  },
  {
   "cell_type": "code",
   "execution_count": 26,
   "metadata": {},
   "outputs": [],
   "source": [
    "img_random_color = random_light_color(img)"
   ]
  },
  {
   "cell_type": "code",
   "execution_count": 27,
   "metadata": {},
   "outputs": [],
   "source": [
    "cv2.imshow('lightpic',img_random_color)\n",
    "key = cv2.waitKey()\n",
    "if key == 27:\n",
    "    cv2.destroyAllWindows()"
   ]
  },
  {
   "cell_type": "markdown",
   "metadata": {},
   "source": [
    "### 矩阵的运算\n",
    "\n",
    "对每个数满足直接操作"
   ]
  },
  {
   "cell_type": "code",
   "execution_count": 46,
   "metadata": {},
   "outputs": [],
   "source": [
    "G = np.array([[1,2,3],[2,3,4],[5,5,6]])"
   ]
  },
  {
   "cell_type": "code",
   "execution_count": 47,
   "metadata": {},
   "outputs": [
    {
     "name": "stdout",
     "output_type": "stream",
     "text": [
      "4\n"
     ]
    }
   ],
   "source": [
    "g_rand = random.randint(0,5)\n",
    "print(g_rand)\n",
    "if g_rand == 0:\n",
    "    pass\n",
    "elif g_rand > 0 :\n",
    "    lim = 10-g_rand\n",
    "    G[G > lim] = 10\n",
    "    G[G <= lim] = (g_rand + G[G <= lim])\n",
    "elif g_rand < 0:\n",
    "    lim = 0-g_rand\n",
    "    G[G<lim] = 0\n",
    "    G[G >= lim] = (g_rand + G[G >= lim])\n"
   ]
  },
  {
   "cell_type": "code",
   "execution_count": 48,
   "metadata": {},
   "outputs": [
    {
     "name": "stdout",
     "output_type": "stream",
     "text": [
      "[[ 5  6  7]\n",
      " [ 6  7  8]\n",
      " [ 9  9 10]]\n"
     ]
    }
   ],
   "source": [
    "print(G)"
   ]
  },
  {
   "cell_type": "markdown",
   "metadata": {},
   "source": [
    "### gamma 变换\n",
    "\n",
    "    在图像处理中，将漂白(相机过曝)的图片或者过暗(曝光不足)的图片，进行修正\n",
    "    小于1的值让暗部细节大量提升，同时亮部细节少量提升"
   ]
  },
  {
   "cell_type": "code",
   "execution_count": 4,
   "metadata": {},
   "outputs": [],
   "source": [
    "img_dark = cv2.imread('dark.jpg')\n",
    "cv2.imshow('img_dark',img_dark)\n",
    "key = cv2.waitKey()\n",
    "if key == 27:\n",
    "    cv2.destroyAllWindows()"
   ]
  },
  {
   "cell_type": "code",
   "execution_count": 56,
   "metadata": {},
   "outputs": [],
   "source": [
    "def adjust_gamma(image, gamma=1.0):\n",
    "    invGamma = 1.0/gamma\n",
    "    table = []\n",
    "    for i in range(256):\n",
    "        table.append(((i/255.0)** invGamma)* 255)\n",
    "    table = np.array(table).astype(\"uint8\")\n",
    "    return cv2.LUT(img_dark,table)"
   ]
  },
  {
   "cell_type": "code",
   "execution_count": 57,
   "metadata": {},
   "outputs": [],
   "source": [
    "img_brighter = adjust_gamma(img_dark,2)\n",
    "cv2.imshow('img_dark',img_dark)\n",
    "cv2.imshow('img_brighter',img_brighter)\n",
    "key = cv2.waitKey()\n",
    "if key == 27:\n",
    "    cv2.destroyAllWindows()"
   ]
  },
  {
   "cell_type": "code",
   "execution_count": 27,
   "metadata": {},
   "outputs": [],
   "source": [
    "# 定义Gamma矫正的函数\n",
    "def gamma_trans(img, gamma):\n",
    "    # 具体做法是先归一化到1，然后gamma作为指数值求出新的像素值再还原\n",
    "    gamma_table = [np.power(x/255.0, gamma)*255.0 for x in range(256)]\n",
    "    gamma_table = np.round(np.array(gamma_table)).astype(np.uint8)\n",
    "    \n",
    "    # 实现这个映射用的是OpenCV的查表函数\n",
    "    return cv2.LUT(img, gamma_table)\n",
    "\n",
    "# 执行Gamma矫正，小于1的值让暗部细节大量提升，同时亮部细节少量提升\n",
    "img_dark2 = cv2.resize(img_dark,( (img_dark.shape[0]*2),(img_dark.shape[1]*2)))\n",
    "img_1 = gamma_trans(img_dark2, 0.5)\n",
    "img_2 = gamma_trans(img_dark2,  1)\n",
    "img_3 = gamma_trans(img_dark2,  1.5)\n",
    "cv2.imshow('gamma',img_dark)\n",
    "cv2.imshow('gamma_1.jpg', img_1)\n",
    "cv2.imshow('gamma_2.jpg', img_2)\n",
    "cv2.imshow('gamma_3.jpg', img_3)\n",
    "key = cv2.waitKey()\n",
    "if key == 27:\n",
    "    cv2.destroyAllWindows()"
   ]
  },
  {
   "cell_type": "markdown",
   "metadata": {},
   "source": [
    "### histogram"
   ]
  },
  {
   "cell_type": "code",
   "execution_count": 7,
   "metadata": {},
   "outputs": [
    {
     "data": {
      "text/plain": [
       "(array([3.000e+02, 1.090e+02, 9.500e+01, 9.200e+01, 1.260e+02, 1.130e+02,\n",
       "        1.370e+02, 1.470e+02, 1.510e+02, 2.030e+02, 2.180e+02, 3.090e+02,\n",
       "        4.490e+02, 6.700e+02, 4.500e+02, 2.522e+03, 2.470e+03, 7.630e+02,\n",
       "        2.779e+03, 2.995e+03, 1.390e+03, 1.376e+03, 1.157e+03, 3.022e+03,\n",
       "        3.233e+03, 8.200e+02, 6.500e+02, 5.710e+02, 5.570e+02, 4.520e+02,\n",
       "        4.050e+02, 3.810e+02, 3.490e+02, 3.110e+02, 2.790e+02, 2.460e+02,\n",
       "        2.330e+02, 2.310e+02, 2.340e+02, 2.110e+02, 2.050e+02, 1.750e+02,\n",
       "        1.760e+02, 1.760e+02, 1.650e+02, 1.820e+02, 1.570e+02, 1.470e+02,\n",
       "        1.490e+02, 1.520e+02, 1.500e+02, 1.550e+02, 1.610e+02, 1.630e+02,\n",
       "        1.530e+02, 1.210e+02, 1.190e+02, 1.090e+02, 9.000e+01, 8.400e+01,\n",
       "        9.000e+01, 9.700e+01, 8.100e+01, 8.400e+01, 7.700e+01, 9.300e+01,\n",
       "        8.600e+01, 7.500e+01, 8.000e+01, 7.800e+01, 7.000e+01, 8.000e+01,\n",
       "        7.400e+01, 6.600e+01, 5.200e+01, 6.900e+01, 6.200e+01, 6.500e+01,\n",
       "        7.300e+01, 5.500e+01, 5.900e+01, 5.200e+01, 5.600e+01, 5.800e+01,\n",
       "        5.100e+01, 5.200e+01, 5.000e+01, 6.600e+01, 5.500e+01, 5.200e+01,\n",
       "        6.800e+01, 5.500e+01, 5.700e+01, 3.800e+01, 4.700e+01, 3.900e+01,\n",
       "        5.200e+01, 4.300e+01, 3.900e+01, 3.200e+01, 4.300e+01, 4.000e+01,\n",
       "        4.000e+01, 3.600e+01, 4.400e+01, 3.800e+01, 3.000e+01, 2.900e+01,\n",
       "        2.800e+01, 4.100e+01, 2.600e+01, 3.100e+01, 3.400e+01, 3.400e+01,\n",
       "        3.000e+01, 3.000e+01, 1.800e+01, 3.300e+01, 1.600e+01, 2.600e+01,\n",
       "        3.200e+01, 3.300e+01, 1.900e+01, 3.200e+01, 1.900e+01, 2.700e+01,\n",
       "        2.900e+01, 2.200e+01, 2.900e+01, 1.800e+01, 2.300e+01, 1.800e+01,\n",
       "        2.400e+01, 2.800e+01, 2.900e+01, 1.900e+01, 2.300e+01, 1.700e+01,\n",
       "        1.800e+01, 8.000e+00, 1.800e+01, 2.500e+01, 1.200e+01, 2.000e+01,\n",
       "        1.700e+01, 1.400e+01, 1.300e+01, 1.100e+01, 1.800e+01, 2.300e+01,\n",
       "        1.800e+01, 2.000e+01, 1.900e+01, 1.700e+01, 1.700e+01, 2.200e+01,\n",
       "        1.800e+01, 2.200e+01, 1.900e+01, 1.500e+01, 2.200e+01, 2.200e+01,\n",
       "        2.000e+01, 2.300e+01, 2.000e+01, 3.200e+01, 2.400e+01, 1.800e+01,\n",
       "        2.500e+01, 2.300e+01, 1.700e+01, 2.300e+01, 1.900e+01, 2.600e+01,\n",
       "        2.300e+01, 1.700e+01, 1.200e+01, 1.600e+01, 2.500e+01, 1.900e+01,\n",
       "        2.100e+01, 2.700e+01, 1.800e+01, 1.500e+01, 1.400e+01, 2.000e+01,\n",
       "        1.900e+01, 2.700e+01, 2.100e+01, 2.000e+01, 3.000e+01, 1.200e+01,\n",
       "        2.500e+01, 2.400e+01, 2.100e+01, 2.200e+01, 1.400e+01, 1.700e+01,\n",
       "        2.500e+01, 2.300e+01, 2.000e+01, 2.600e+01, 2.800e+01, 2.700e+01,\n",
       "        1.800e+01, 1.500e+01, 2.600e+01, 2.800e+01, 2.800e+01, 3.500e+01,\n",
       "        2.800e+01, 2.800e+01, 4.000e+01, 2.800e+01, 2.700e+01, 2.800e+01,\n",
       "        2.700e+01, 2.700e+01, 2.400e+01, 2.400e+01, 2.400e+01, 1.800e+01,\n",
       "        2.100e+01, 2.500e+01, 1.400e+01, 2.200e+01, 1.700e+01, 1.300e+01,\n",
       "        1.800e+01, 1.300e+01, 1.200e+01, 1.000e+01, 1.100e+01, 6.000e+00,\n",
       "        8.000e+00, 6.000e+00, 7.000e+00, 9.000e+00, 8.000e+00, 1.000e+00,\n",
       "        2.000e+00, 3.000e+00, 2.000e+00, 2.000e+00, 0.000e+00, 2.000e+00,\n",
       "        3.000e+00, 3.000e+00, 2.000e+00, 3.000e+00, 0.000e+00, 1.000e+00,\n",
       "        1.000e+00, 0.000e+00, 0.000e+00, 6.000e+00]),\n",
       " array([  0.,   1.,   2.,   3.,   4.,   5.,   6.,   7.,   8.,   9.,  10.,\n",
       "         11.,  12.,  13.,  14.,  15.,  16.,  17.,  18.,  19.,  20.,  21.,\n",
       "         22.,  23.,  24.,  25.,  26.,  27.,  28.,  29.,  30.,  31.,  32.,\n",
       "         33.,  34.,  35.,  36.,  37.,  38.,  39.,  40.,  41.,  42.,  43.,\n",
       "         44.,  45.,  46.,  47.,  48.,  49.,  50.,  51.,  52.,  53.,  54.,\n",
       "         55.,  56.,  57.,  58.,  59.,  60.,  61.,  62.,  63.,  64.,  65.,\n",
       "         66.,  67.,  68.,  69.,  70.,  71.,  72.,  73.,  74.,  75.,  76.,\n",
       "         77.,  78.,  79.,  80.,  81.,  82.,  83.,  84.,  85.,  86.,  87.,\n",
       "         88.,  89.,  90.,  91.,  92.,  93.,  94.,  95.,  96.,  97.,  98.,\n",
       "         99., 100., 101., 102., 103., 104., 105., 106., 107., 108., 109.,\n",
       "        110., 111., 112., 113., 114., 115., 116., 117., 118., 119., 120.,\n",
       "        121., 122., 123., 124., 125., 126., 127., 128., 129., 130., 131.,\n",
       "        132., 133., 134., 135., 136., 137., 138., 139., 140., 141., 142.,\n",
       "        143., 144., 145., 146., 147., 148., 149., 150., 151., 152., 153.,\n",
       "        154., 155., 156., 157., 158., 159., 160., 161., 162., 163., 164.,\n",
       "        165., 166., 167., 168., 169., 170., 171., 172., 173., 174., 175.,\n",
       "        176., 177., 178., 179., 180., 181., 182., 183., 184., 185., 186.,\n",
       "        187., 188., 189., 190., 191., 192., 193., 194., 195., 196., 197.,\n",
       "        198., 199., 200., 201., 202., 203., 204., 205., 206., 207., 208.,\n",
       "        209., 210., 211., 212., 213., 214., 215., 216., 217., 218., 219.,\n",
       "        220., 221., 222., 223., 224., 225., 226., 227., 228., 229., 230.,\n",
       "        231., 232., 233., 234., 235., 236., 237., 238., 239., 240., 241.,\n",
       "        242., 243., 244., 245., 246., 247., 248., 249., 250., 251., 252.,\n",
       "        253., 254., 255., 256.]),\n",
       " <a list of 256 Patch objects>)"
      ]
     },
     "execution_count": 7,
     "metadata": {},
     "output_type": "execute_result"
    },
    {
     "data": {
      "image/png": "[encoded data removed]",
      "text/plain": [
       "<Figure size 432x288 with 1 Axes>"
      ]
     },
     "metadata": {},
     "output_type": "display_data"
    }
   ],
   "source": [
    "img_small_brighter = cv2.resize(img_dark, (int(img_dark.shape[0]*2), int(img_dark.shape[1]*2)))\n",
    "plt.hist(img_dark.flatten(),256,[0,256],color='r')"
   ]
  },
  {
   "cell_type": "code",
   "execution_count": 8,
   "metadata": {},
   "outputs": [],
   "source": [
    "img_yuv = cv2.cvtColor(img_small_brighter, cv2.COLOR_BGR2YUV)\n",
    "# equalize the histogram of the Y channel\n",
    "img_yuv[:,:,0] = cv2.equalizeHist(img_yuv[:,:,0]) #只对灰度图片均衡化\n",
    "img_out = cv2.cvtColor(img_yuv,cv2.COLOR_YUV2BGR)\n",
    "cv2.imshow('input image',img_small_brighter)\n",
    "cv2.imshow('Hist image',img_out)\n",
    "key = cv2.waitKey(0)\n",
    "if key == 27:\n",
    "    exit()"
   ]
  },
  {
   "cell_type": "markdown",
   "metadata": {},
   "source": [
    "### 旋转"
   ]
  },
  {
   "cell_type": "code",
   "execution_count": 10,
   "metadata": {},
   "outputs": [],
   "source": [
    "def roate_img(img):  \n",
    "   # scale+rotation+translation = similarity transform\n",
    "    M = cv2.getRotationMatrix2D((img.shape[1]/2,img.shape[0]/2),30,1) # center, angle, scale\n",
    "    img_roate = cv2.warpAffine(img,M,(img.shape[1],img.shape[0]))\n",
    "    cv2.imshow('roate', img_roate)\n",
    "    key = cv2.waitKey(0)\n",
    "    if key == 27:\n",
    "        exit()"
   ]
  },
  {
   "cell_type": "code",
   "execution_count": 11,
   "metadata": {},
   "outputs": [
    {
     "name": "stdout",
     "output_type": "stream",
     "text": [
      "[[  0.8660254    0.5        -13.45671476]\n",
      " [ -0.5          0.8660254   39.77885683]]\n"
     ]
    }
   ],
   "source": [
    "roate_img(img)"
   ]
  },
  {
   "cell_type": "code",
   "execution_count": 5,
   "metadata": {},
   "outputs": [],
   "source": [
    "# Affine Transform\n",
    "rows, cols, ch = img.shape\n",
    "pts1 = np.float32([[0, 0], [cols - 1, 0], [0, rows - 1]])\n",
    "pts2 = np.float32([[cols * 0.2, rows * 0.1], [cols * 0.9, rows * 0.2], [cols * 0.1, rows * 0.9]])\n",
    " \n",
    "M = cv2.getAffineTransform(pts1, pts2)\n",
    "dst = cv2.warpAffine(img, M, (cols, rows))\n",
    "\n",
    "cv2.imshow('affine lenna', dst)\n",
    "key = cv2.waitKey(0)\n",
    "if key == 27:\n",
    "    cv2.destroyAllWindows()"
   ]
  },
  {
   "cell_type": "code",
   "execution_count": null,
   "metadata": {},
   "outputs": [],
   "source": [
    "# 沿着横纵轴放大1.6倍，然后平移(-150,-240)，最后沿原图大小截取，等效于裁剪并放大\n",
    "M_crop_elephant = np.array([\n",
    "    [1.6, 0, -150],\n",
    "    [0, 1.6, -240]\n",
    "], dtype=np.float32)\n",
    "\n",
    "img_elephant = cv2.warpAffine(img, M_crop_elephant, (400, 600))\n",
    "cv2.imwrite('lanka_elephant.jpg', img_elephant)\n",
    "\n",
    "# x轴的剪切变换，角度15°\n",
    "theta = 15 * np.pi / 180\n",
    "M_shear = np.array([\n",
    "    [1, np.tan(theta), 0],\n",
    "    [0, 1, 0]\n",
    "], dtype=np.float32)\n",
    "\n",
    "img_sheared = cv2.warpAffine(img, M_shear, (400, 600))\n",
    "cv2.imwrite('lanka_safari_sheared.jpg', img_sheared)\n",
    "\n",
    "# 顺时针旋转，角度15°\n",
    "M_rotate = np.array([\n",
    "    [np.cos(theta), -np.sin(theta), 0],\n",
    "    [np.sin(theta), np.cos(theta), 0]\n",
    "], dtype=np.float32)\n",
    "\n",
    "img_rotated = cv2.warpAffine(img, M_rotate, (400, 600))\n",
    "cv2.imwrite('lanka_safari_rotated.jpg', img_rotated)\n",
    "\n",
    "# 某种变换，具体旋转+缩放+旋转组合可以通过SVD分解理解\n",
    "M = np.array([\n",
    "    [1, 1.5, -400],\n",
    "    [0.5, 2, -100]\n",
    "], dtype=np.float32)\n",
    "\n",
    "img_transformed = cv2.warpAffine(img, M, (400, 600))\n",
    "cv2.imwrite('lanka_safari_transformed.jpg', img_transformed)"
   ]
  },
  {
   "cell_type": "code",
   "execution_count": 6,
   "metadata": {},
   "outputs": [],
   "source": [
    "# perspective transform\n",
    "def random_warp(img, row, col):\n",
    "    height, width, channels = img.shape\n",
    "\n",
    "    # warp:\n",
    "    random_margin = 60\n",
    "    x1 = random.randint(-random_margin, random_margin)\n",
    "    y1 = random.randint(-random_margin, random_margin)\n",
    "    x2 = random.randint(width - random_margin - 1, width - 1)\n",
    "    y2 = random.randint(-random_margin, random_margin)\n",
    "    x3 = random.randint(width - random_margin - 1, width - 1)\n",
    "    y3 = random.randint(height - random_margin - 1, height - 1)\n",
    "    x4 = random.randint(-random_margin, random_margin)\n",
    "    y4 = random.randint(height - random_margin - 1, height - 1)\n",
    "\n",
    "    dx1 = random.randint(-random_margin, random_margin)\n",
    "    dy1 = random.randint(-random_margin, random_margin)\n",
    "    dx2 = random.randint(width - random_margin - 1, width - 1)\n",
    "    dy2 = random.randint(-random_margin, random_margin)\n",
    "    dx3 = random.randint(width - random_margin - 1, width - 1)\n",
    "    dy3 = random.randint(height - random_margin - 1, height - 1)\n",
    "    dx4 = random.randint(-random_margin, random_margin)\n",
    "    dy4 = random.randint(height - random_margin - 1, height - 1)\n",
    "\n",
    "    pts1 = np.float32([[x1, y1], [x2, y2], [x3, y3], [x4, y4]])\n",
    "    pts2 = np.float32([[dx1, dy1], [dx2, dy2], [dx3, dy3], [dx4, dy4]])\n",
    "    M_warp = cv2.getPerspectiveTransform(pts1, pts2)\n",
    "    img_warp = cv2.warpPerspective(img, M_warp, (width, height))\n",
    "    return M_warp, img_warp"
   ]
  },
  {
   "cell_type": "code",
   "execution_count": 7,
   "metadata": {},
   "outputs": [],
   "source": [
    "M_warp, img_warp = random_warp(img, img.shape[0], img.shape[1])\n",
    "cv2.imshow('lenna_warp', img_warp)\n",
    "key = cv2.waitKey(0)\n",
    "if key == 27:\n",
    "    cv2.destroyAllWindows()"
   ]
  },
  {
   "cell_type": "code",
   "execution_count": null,
   "metadata": {},
   "outputs": [],
   "source": []
  }
 ],
 "metadata": {
  "kernelspec": {
   "display_name": "Python 3",
   "language": "python",
   "name": "python3"
  },
  "language_info": {
   "codemirror_mode": {
    "name": "ipython",
    "version": 3
   },
   "file_extension": ".py",
   "mimetype": "text/x-python",
   "name": "python",
   "nbconvert_exporter": "python",
   "pygments_lexer": "ipython3",
   "version": "3.6.5"
  }
 },
 "nbformat": 4,
 "nbformat_minor": 2
}
